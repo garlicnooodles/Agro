{
 "cells": [
  {
   "cell_type": "code",
   "execution_count": 269,
   "metadata": {},
   "outputs": [],
   "source": [
    "import numpy as np\n",
    "import pandas as pd \n",
    "import matplotlib.pyplot as plt\n",
    "import scipy\n",
    "from sklearn.model_selection import train_test_split\n",
    "from sklearn.metrics import r2_score\n",
    "import seaborn as sns"
   ]
  },
  {
   "cell_type": "code",
   "execution_count": 242,
   "metadata": {},
   "outputs": [],
   "source": [
    "raw_data=pd.read_csv('../data/raw_data_upd2.csv')\n"
   ]
  },
  {
   "cell_type": "code",
   "execution_count": 243,
   "metadata": {},
   "outputs": [],
   "source": [
    "columns=['dummy','area_cd','item_cd','year','pesticide_vol','avg_rain','avg_temp','pest2','temp2','rain2','pest_rain','pest_temp','rain_temp','pest_rain_temp']\n",
    "raw_data['dummy']=1\n",
    "X_data=raw_data[columns]\n",
    "Y_data=raw_data['tot_yield']/10000\n",
    "\n",
    "X_data=X_data.to_numpy()\n",
    "Y_data=Y_data.to_numpy()\n",
    "\n",
    "X_train, X_test, y_train, y_test = train_test_split(X_data,Y_data, test_size=0.3)"
   ]
  },
  {
   "cell_type": "code",
   "execution_count": 244,
   "metadata": {},
   "outputs": [],
   "source": [
    "X_val, X_test, y_val, y_test=train_test_split(X_test, y_test, test_size=0.3) "
   ]
  },
  {
   "cell_type": "code",
   "execution_count": 245,
   "metadata": {},
   "outputs": [],
   "source": [
    "def hyp(X,theta,b):\n",
    "    h=np.dot(X,theta)+b\n",
    "    return h"
   ]
  },
  {
   "cell_type": "code",
   "execution_count": 246,
   "metadata": {},
   "outputs": [],
   "source": [
    "def cost_function(X,theta,b,y):\n",
    "    a=(y-hyp(X,theta,b))**2\n",
    "    c=np.sum(a)\n",
    "    J=c/(2*X.shape[0])\n",
    "    return J"
   ]
  },
  {
   "cell_type": "code",
   "execution_count": 252,
   "metadata": {},
   "outputs": [],
   "source": [
    "def compute_gradient(X,theta,b,y):\n",
    "    m,n = X.shape\n",
    "    dj_dw=np.zeros((n,))\n",
    "    dj_db=0\n",
    "    for i in range(m):\n",
    "        err=(np.dot(X[i],theta)+b)-y[i]\n",
    "        for j in range(n):\n",
    "            dj_dw[j]=(dj_dw[j]+err) * X[i,j]\n",
    "        #if i<20:\n",
    "        #    print(i,err,dj_dw,X[i],y[i])\n",
    "        dj_db=(dj_db+err)\n",
    "    dj_dw=dj_dw/m\n",
    "    dj_db=dj_db/m\n",
    "    return dj_dw,dj_db\n"
   ]
  },
  {
   "cell_type": "code",
   "execution_count": 259,
   "metadata": {},
   "outputs": [],
   "source": [
    "def gradient_descent(X,theta_in,b_in,y,alpha,epoch):\n",
    "    plot_cost=[]\n",
    "    theta=theta_in\n",
    "    b=b_in\n",
    "    for i in range(epoch):\n",
    "        dj_dw,dj_db=compute_gradient(X,theta,b,y)\n",
    "        theta=theta-alpha*dj_dw\n",
    "        b=b-alpha*dj_db\n",
    "        plot_cost.append(cost_function(X,theta,b,y))\n",
    "        if i%(epoch/100)==0:\n",
    "            print(f\"iteration {i:4d}: Cost {plot_cost[-1]:8.2f} \")\n",
    "    return theta,b,plot_cost"
   ]
  },
  {
   "cell_type": "code",
   "execution_count": 262,
   "metadata": {},
   "outputs": [
    {
     "name": "stdout",
     "output_type": "stream",
     "text": [
      "iteration    0: Cost    62.82 \n",
      "iteration  100: Cost    58.06 \n",
      "iteration  200: Cost    54.16 \n",
      "iteration  300: Cost    50.97 \n",
      "iteration  400: Cost    48.35 \n",
      "iteration  500: Cost    46.21 \n",
      "iteration  600: Cost    44.46 \n",
      "iteration  700: Cost    43.03 \n",
      "iteration  800: Cost    41.86 \n",
      "iteration  900: Cost    40.90 \n",
      "iteration 1000: Cost    40.11 \n",
      "iteration 1100: Cost    39.47 \n",
      "iteration 1200: Cost    38.94 \n",
      "iteration 1300: Cost    38.51 \n",
      "iteration 1400: Cost    38.16 \n",
      "iteration 1500: Cost    37.87 \n",
      "iteration 1600: Cost    37.63 \n",
      "iteration 1700: Cost    37.44 \n",
      "iteration 1800: Cost    37.28 \n",
      "iteration 1900: Cost    37.15 \n",
      "iteration 2000: Cost    37.04 \n",
      "iteration 2100: Cost    36.96 \n",
      "iteration 2200: Cost    36.89 \n",
      "iteration 2300: Cost    36.83 \n",
      "iteration 2400: Cost    36.78 \n",
      "iteration 2500: Cost    36.74 \n",
      "iteration 2600: Cost    36.71 \n",
      "iteration 2700: Cost    36.68 \n",
      "iteration 2800: Cost    36.66 \n",
      "iteration 2900: Cost    36.64 \n",
      "iteration 3000: Cost    36.63 \n",
      "iteration 3100: Cost    36.62 \n",
      "iteration 3200: Cost    36.61 \n",
      "iteration 3300: Cost    36.60 \n",
      "iteration 3400: Cost    36.59 \n",
      "iteration 3500: Cost    36.59 \n",
      "iteration 3600: Cost    36.59 \n",
      "iteration 3700: Cost    36.58 \n",
      "iteration 3800: Cost    36.58 \n",
      "iteration 3900: Cost    36.58 \n",
      "iteration 4000: Cost    36.57 \n",
      "iteration 4100: Cost    36.57 \n",
      "iteration 4200: Cost    36.57 \n",
      "iteration 4300: Cost    36.57 \n",
      "iteration 4400: Cost    36.57 \n",
      "iteration 4500: Cost    36.57 \n",
      "iteration 4600: Cost    36.57 \n",
      "iteration 4700: Cost    36.57 \n",
      "iteration 4800: Cost    36.57 \n",
      "iteration 4900: Cost    36.57 \n",
      "iteration 5000: Cost    36.57 \n",
      "iteration 5100: Cost    36.57 \n",
      "iteration 5200: Cost    36.57 \n",
      "iteration 5300: Cost    36.57 \n",
      "iteration 5400: Cost    36.57 \n",
      "iteration 5500: Cost    36.57 \n",
      "iteration 5600: Cost    36.57 \n",
      "iteration 5700: Cost    36.57 \n",
      "iteration 5800: Cost    36.57 \n",
      "iteration 5900: Cost    36.57 \n",
      "iteration 6000: Cost    36.57 \n",
      "iteration 6100: Cost    36.57 \n",
      "iteration 6200: Cost    36.56 \n",
      "iteration 6300: Cost    36.56 \n",
      "iteration 6400: Cost    36.56 \n",
      "iteration 6500: Cost    36.56 \n",
      "iteration 6600: Cost    36.56 \n",
      "iteration 6700: Cost    36.56 \n",
      "iteration 6800: Cost    36.56 \n",
      "iteration 6900: Cost    36.56 \n",
      "iteration 7000: Cost    36.56 \n",
      "iteration 7100: Cost    36.56 \n",
      "iteration 7200: Cost    36.56 \n",
      "iteration 7300: Cost    36.56 \n",
      "iteration 7400: Cost    36.56 \n",
      "iteration 7500: Cost    36.56 \n",
      "iteration 7600: Cost    36.56 \n",
      "iteration 7700: Cost    36.56 \n",
      "iteration 7800: Cost    36.56 \n",
      "iteration 7900: Cost    36.56 \n",
      "iteration 8000: Cost    36.56 \n",
      "iteration 8100: Cost    36.56 \n",
      "iteration 8200: Cost    36.56 \n",
      "iteration 8300: Cost    36.56 \n",
      "iteration 8400: Cost    36.56 \n",
      "iteration 8500: Cost    36.56 \n",
      "iteration 8600: Cost    36.56 \n",
      "iteration 8700: Cost    36.56 \n",
      "iteration 8800: Cost    36.56 \n",
      "iteration 8900: Cost    36.56 \n",
      "iteration 9000: Cost    36.56 \n",
      "iteration 9100: Cost    36.56 \n",
      "iteration 9200: Cost    36.56 \n",
      "iteration 9300: Cost    36.56 \n",
      "iteration 9400: Cost    36.56 \n",
      "iteration 9500: Cost    36.56 \n",
      "iteration 9600: Cost    36.56 \n",
      "iteration 9700: Cost    36.56 \n",
      "iteration 9800: Cost    36.56 \n",
      "iteration 9900: Cost    36.56 \n"
     ]
    }
   ],
   "source": [
    "initial_w=np.zeros(X_train.shape[1])\n",
    "initial_b=0\n",
    "alpha = 5.0e-4\n",
    "epoch=10000\n",
    "w_final, b_final, plot_cost = gradient_descent(X_train, initial_w, initial_b, y_train,alpha,epoch)\n",
    "\n"
   ]
  },
  {
   "cell_type": "code",
   "execution_count": 271,
   "metadata": {},
   "outputs": [
    {
     "data": {
      "text/plain": [
       "-0.0008163126473799132"
      ]
     },
     "execution_count": 271,
     "metadata": {},
     "output_type": "execute_result"
    }
   ],
   "source": [
    "pred=np.dot(X_val,w_final)+b_final\n",
    "r2_score(y_val,pred)"
   ]
  },
  {
   "cell_type": "code",
   "execution_count": 267,
   "metadata": {},
   "outputs": [
    {
     "data": {
      "text/plain": [
       "-0.048458267460461446"
      ]
     },
     "execution_count": 267,
     "metadata": {},
     "output_type": "execute_result"
    }
   ],
   "source": []
  },
  {
   "cell_type": "code",
   "execution_count": null,
   "metadata": {},
   "outputs": [],
   "source": []
  }
 ],
 "metadata": {
  "kernelspec": {
   "display_name": "Python 3",
   "language": "python",
   "name": "python3"
  },
  "language_info": {
   "codemirror_mode": {
    "name": "ipython",
    "version": 3
   },
   "file_extension": ".py",
   "mimetype": "text/x-python",
   "name": "python",
   "nbconvert_exporter": "python",
   "pygments_lexer": "ipython3",
   "version": "3.11.3"
  },
  "orig_nbformat": 4
 },
 "nbformat": 4,
 "nbformat_minor": 2
}
